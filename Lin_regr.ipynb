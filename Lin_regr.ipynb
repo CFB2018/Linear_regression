{
 "cells": [
  {
   "cell_type": "markdown",
   "id": "7c0d5639-f727-453c-8756-18d5417256d6",
   "metadata": {},
   "source": [
    "# Introduction"
   ]
  },
  {
   "cell_type": "markdown",
   "id": "75b2f2f4-db2e-47b3-b8ef-6ca399c60aa9",
   "metadata": {},
   "source": [
    "### Objectives:\n",
    "#### 1. Develop a linear model that can be used to make predictions.\n",
    "#### 2. Implement the gradient descent algorithm to optimize the model´s parameters.\n",
    "#### 3. Train the linear model using the generated data and gradient descent to achieve a good fit.\n",
    "#### 4. Evaluate model performance by comparing the results of the trained model with an untrained model to assess its effectiveness."
   ]
  },
  {
   "cell_type": "code",
   "execution_count": 432,
   "id": "c69972b5-cdf4-4cc6-ba75-a9e9bbe50c92",
   "metadata": {},
   "outputs": [],
   "source": [
    "%matplotlib inline\n",
    "\n",
    "import numpy as np\n",
    "import matplotlib.pyplot as plt"
   ]
  },
  {
   "cell_type": "markdown",
   "id": "ef31bf5a-3378-4dca-b9a8-28d8e015e4a5",
   "metadata": {},
   "source": [
    "# Dataset\n",
    "#### Introduction to the problem and a refresher on linear regression."
   ]
  },
  {
   "cell_type": "markdown",
   "id": "8b515ffc-3e31-4b66-b9e5-06404a865e35",
   "metadata": {},
   "source": [
    "#### Real estate table:\n",
    "\n",
    "\n",
    "| Area  | Distance  |  Price  |\n",
    "|-------|-----------|---------|\n",
    "| 70    |    3   |   21200    |\n",
    "|  50   |  1    |  22010    |\n",
    "| 120   |    9   |  24305 |\n",
    "| 100   | 2   |  31500   |\n"
   ]
  },
  {
   "cell_type": "markdown",
   "id": "d3c9b02f-6c87-4106-96a4-ea9e095259c5",
   "metadata": {},
   "source": [
    "#### The price depend on the area and the distance.\n",
    "#### The relationship can be written with a 2-variable linear equation:\n",
    "\n",
    "$ y = b + w_{1} * x_{1} + w_{2} * x_{2} $\n",
    "\n",
    "b = intercept, a constant value added to the output. \\\n",
    "w1 and w2 = weights or coefficients multiplied by the input variables x1 and x2. \\\n",
    "x1 and x2 = input variables used to predict y. In this case area and distance. \\\n",
    "y = predicted output variable (price)."
   ]
  },
  {
   "cell_type": "markdown",
   "id": "3aab15b7-ed0d-45e1-8ec5-488c40460976",
   "metadata": {},
   "source": [
    "#### In a vector form:\n",
    "$$\n",
    "y = b + (w_{1}w_{2}). \\quad \\left(\n",
    "                        \\begin{gathered}\n",
    "                        x_{1}  \\\\\n",
    "                        x_{2}\n",
    "                        \\end{gathered}\n",
    "                        \\right)\n",
    "$$"
   ]
  },
  {
   "cell_type": "markdown",
   "id": "b46b9ef6-9092-4838-9ddd-47b5e8e0bef9",
   "metadata": {},
   "source": [
    "$$\n",
    "where \\ W = (w_{1}w_{2}) \\ and\\ X = \\quad \\left(\n",
    "                        \\begin{gathered}\n",
    "                        x_{1}  \\\\\n",
    "                        x_{2}\n",
    "                        \\end{gathered}\n",
    "                        \\right)\n",
    "$$"
   ]
  },
  {
   "cell_type": "code",
   "execution_count": 438,
   "id": "c41279dd-c18e-4600-9a0e-5b8a8328cc16",
   "metadata": {},
   "outputs": [],
   "source": [
    "# Create a function to synthesize data\n",
    "def generate_examples(num=1000):\n",
    "    W = [1.0, -3.0]\n",
    "    b = 1.0\n",
    "\n",
    "    W = np.reshape(W, (2, 1)) #np.dot multiplies two arrays element-wise and returns the sum of those products.\n",
    "    X = np.random.randn(num, 2)\n",
    "\n",
    "    y = b + np.dot(X, W) + np.random.randn() #the last part is to add some noise\n",
    "    \n",
    "    y = np.reshape(y, (num, 1))\n",
    "\n",
    "    return X, y"
   ]
  },
  {
   "cell_type": "code",
   "execution_count": 439,
   "id": "7c714c37-81a4-4bad-ab73-c79ae03251b2",
   "metadata": {},
   "outputs": [],
   "source": [
    "X, y = generate_examples()"
   ]
  },
  {
   "cell_type": "code",
   "execution_count": 440,
   "id": "dfdd5a46-ae26-4da9-9bb6-e595f30921b0",
   "metadata": {},
   "outputs": [
    {
     "name": "stdout",
     "output_type": "stream",
     "text": [
      "(1000, 2) (1000, 1)\n"
     ]
    }
   ],
   "source": [
    "print(X.shape, y.shape) "
   ]
  },
  {
   "cell_type": "code",
   "execution_count": 441,
   "id": "e3d3fff0-177f-47f6-968a-24b84d20d3ad",
   "metadata": {},
   "outputs": [
    {
     "name": "stdout",
     "output_type": "stream",
     "text": [
      "[0.15034137 2.52634363] [-6.33665481]\n"
     ]
    }
   ],
   "source": [
    "print(X[0], y[0])"
   ]
  },
  {
   "cell_type": "markdown",
   "id": "56b2b8ec-21c0-4501-905c-abdd416d15ee",
   "metadata": {},
   "source": [
    "# Initialize parameters"
   ]
  },
  {
   "cell_type": "markdown",
   "id": "9834d31f-c57b-457c-b015-4308fcd2be6f",
   "metadata": {},
   "source": [
    "##### The difference between the true and the predicted values is called loss. When the true and predicted values are similar, the mean squared error approaches zero.\n",
    "##### The goal of the gradient descent algorithm is to minimize the loss function value. The objective of gradient descent is to minimize J."
   ]
  },
  {
   "cell_type": "markdown",
   "id": "8090896d-d252-47b6-8af5-8103e728d8c0",
   "metadata": {},
   "source": [
    "#### The loss over m examples:\n",
    "$$ J = 1/2m \\sum_{i=1}^{m} (y - \\hat{y})^{2} $$\n"
   ]
  },
  {
   "cell_type": "markdown",
   "id": "9bc65f13-9bbc-49b4-892f-cd1b8be39092",
   "metadata": {},
   "source": [
    "#### Start building the linear model class (and decide W and b)."
   ]
  },
  {
   "cell_type": "code",
   "execution_count": 446,
   "id": "81629e94-e70a-4e77-b811-fcf201b1684c",
   "metadata": {},
   "outputs": [],
   "source": [
    "class Model:\n",
    "    def __init__(self, num_features):\n",
    "        self.num_features = num_features\n",
    "        self.W = np.random.randn(num_features, 1)\n",
    "        self.b = np.random.randn()"
   ]
  },
  {
   "cell_type": "code",
   "execution_count": 447,
   "id": "7f21b6dd-875c-473e-9806-f4255f9d558c",
   "metadata": {},
   "outputs": [
    {
     "name": "stdout",
     "output_type": "stream",
     "text": [
      "[[ 0.89885674]\n",
      " [-0.12433428]]\n",
      "0.4755340279496765\n"
     ]
    }
   ],
   "source": [
    "model = Model(2)\n",
    "print(model.W)\n",
    "print(model.b)"
   ]
  },
  {
   "cell_type": "markdown",
   "id": "c89f116d-dc89-4a0e-b2fb-6401aceaf0f1",
   "metadata": {},
   "source": [
    "# Implement the forward pass \n",
    "##### The process of making predictions using the current model parameters."
   ]
  },
  {
   "cell_type": "markdown",
   "id": "ac264ddb-28ce-45d0-99d4-393e358c0101",
   "metadata": {},
   "source": [
    "##### The gradient descent algorithm can be simplified in 4 steps:\n",
    "1. Get predictions y_hat for X with W and b current values.\n",
    "2. Compute the loss between y and y_hat.\n",
    "3. Find gradients of the loss for parameters W and b.\n",
    "4. Update the values of W and b by subtracting the gradient values obtained in the previous step."
   ]
  },
  {
   "cell_type": "markdown",
   "id": "15ba80ad-ae64-4ad6-9af8-d5dbd7fada76",
   "metadata": {},
   "source": [
    "##### An example to visualize the loss function:\n",
    "##### Let´s consider a simple linear equation: y = w*x\n",
    "##### By plotting the gradient of the loss function (J) against the weight (w), we can see the w value when the loss is minimized.\n"
   ]
  },
  {
   "cell_type": "code",
   "execution_count": 451,
   "id": "5e8c9c38-d4ae-4d66-b970-9f7e0ce5d191",
   "metadata": {},
   "outputs": [
    {
     "data": {
      "image/png": "[encoded data removed]",
      "text/plain": [
       "<Figure size 640x480 with 1 Axes>"
      ]
     },
     "metadata": {},
     "output_type": "display_data"
    }
   ],
   "source": [
    "import numpy as np\n",
    "import matplotlib.pyplot as plt\n",
    "\n",
    "def compute_loss(W, X, y, b):\n",
    "    m = len(y)\n",
    "    predictions = np.dot(X, W) + b\n",
    "    loss = (1 / (2 * m)) * np.sum((predictions - y) ** 2)\n",
    "    return loss\n",
    "\n",
    "b = 1.0  # define b\n",
    "w_values = np.linspace(6, 13, 100)\n",
    "loss_values = []\n",
    "\n",
    "for w_val in w_values:\n",
    "    w = np.array([w_val, -3.0]).reshape((2, 1))\n",
    "    loss = compute_loss(w, X, y, b)  # pass b as an argument\n",
    "    loss_values.append(loss)\n",
    "\n",
    "plt.plot(w_values, loss_values)\n",
    "plt.xlabel('w')\n",
    "plt.ylabel('Loss (J)')\n",
    "plt.title('Loss Function J(w)')\n",
    "plt.show()"
   ]
  },
  {
   "cell_type": "markdown",
   "id": "4ba56ea5-a712-41b0-84fc-a1bb07fdeadc",
   "metadata": {},
   "source": [
    "##### The gradients of loss with respect to w:"
   ]
  },
  {
   "cell_type": "markdown",
   "id": "b3d64187-aba1-418f-a7c1-bd2bbf923b74",
   "metadata": {},
   "source": [
    "$$ \\frac{dJ}{dw} = \\frac{\\delta J}{\\delta w} = \\lim_{\\epsilon \\to 0} \\frac{J(w+\\epsilon) - J(w)}{\\epsilon} $$"
   ]
  },
  {
   "cell_type": "code",
   "execution_count": 454,
   "id": "123ba42e-b1c2-4ef5-b501-9ea3beb6fca9",
   "metadata": {},
   "outputs": [],
   "source": [
    "class Model(Model):\n",
    "    def forward_pass(self, X):\n",
    "        y_hat = self.b + np.dot(X, self.W)\n",
    "        return y_hat"
   ]
  },
  {
   "cell_type": "code",
   "execution_count": 455,
   "id": "e280acfd-1134-4d87-9f75-0270cbed646f",
   "metadata": {},
   "outputs": [
    {
     "name": "stdout",
     "output_type": "stream",
     "text": [
      "(1000, 1) [-1.35128869]\n"
     ]
    }
   ],
   "source": [
    "y_hat = Model(2).forward_pass(X)\n",
    "print(y_hat.shape, y_hat[0])"
   ]
  },
  {
   "cell_type": "markdown",
   "id": "6318bd8a-6038-4252-ba19-f10530f4df20",
   "metadata": {},
   "source": [
    "# Compute loss\n",
    "##### Extend the linear model and add a function to compute loss."
   ]
  },
  {
   "cell_type": "markdown",
   "id": "774c04d8-feec-47e5-9c12-dfd562a6089e",
   "metadata": {},
   "source": [
    "#### The loss over m examples:\n",
    "$$ J = 1/2m \\sum_{i=1}^{m} (y - \\hat{y})^{2} $$"
   ]
  },
  {
   "cell_type": "code",
   "execution_count": 458,
   "id": "087953c2-a52b-45f8-a642-791f55e8d6f5",
   "metadata": {},
   "outputs": [],
   "source": [
    "class Model(Model):\n",
    "    def compute_loss(self, y_hat, y_true):\n",
    "        return np.sum(np.square(y_hat - y_true))/(2*y_hat.shape[0])"
   ]
  },
  {
   "cell_type": "code",
   "execution_count": 459,
   "id": "eee372d4-2df1-4820-ba49-67f9e37d4262",
   "metadata": {},
   "outputs": [],
   "source": [
    "model = Model(2)\n",
    "y_hat = model.forward_pass(X)\n",
    "loss = model.compute_loss(y_hat, y)"
   ]
  },
  {
   "cell_type": "code",
   "execution_count": 460,
   "id": "8536745f-e86a-4e7d-9da1-909dd2dc7781",
   "metadata": {},
   "outputs": [
    {
     "data": {
      "text/plain": [
       "5.084657724535137"
      ]
     },
     "execution_count": 460,
     "metadata": {},
     "output_type": "execute_result"
    }
   ],
   "source": [
    "loss"
   ]
  },
  {
   "cell_type": "markdown",
   "id": "c1fbecfb-6128-4a08-b8ef-d5f4ec4cd95e",
   "metadata": {},
   "source": [
    "# Implement the backward pass\n",
    "##### The process of computing the gradients of the loss function to the model parameters.\n",
    "##### A crucial step in the training process, as it allows us to update the model parameters using the gradient descent algorithm."
   ]
  },
  {
   "cell_type": "markdown",
   "id": "0244f3bd-8f60-4920-82e2-3ab2508b243e",
   "metadata": {},
   "source": [
    "#### The gradient of loss with respect to bias can be calculated with:"
   ]
  },
  {
   "cell_type": "markdown",
   "id": "2d45563d-f704-4c7c-a094-56357ef5219c",
   "metadata": {},
   "source": [
    "$$ \\frac{dJ}{db} = \\frac{1}{m} \\sum_{i=1}^{m} (y^{(i)} - \\hat{y}^{(i)}) $$"
   ]
  },
  {
   "cell_type": "markdown",
   "id": "3b535314-d642-4425-b971-c740bba4fa20",
   "metadata": {},
   "source": [
    "$$ \\frac{dJ}{dW_j} = \\frac{1}{m} \\sum_{i=1}^{m} (y^{(i)} - \\hat{y}^{(i)}). x_j^{(i)} $$"
   ]
  },
  {
   "cell_type": "code",
   "execution_count": 465,
   "id": "21e00a02-22ef-4503-98d9-e1024dc9613a",
   "metadata": {},
   "outputs": [],
   "source": [
    "class Model(Model):\n",
    "    def backward_pass(self, X, y_true, y_hat):\n",
    "        m = y_true.shape[0]\n",
    "        db = (1/m)*np.sum(y_hat - y_true)\n",
    "        dW = (1/m)*np.sum(np.dot(np.transpose(y_hat - y_true), X), axis=0) #Although not necessary now, keep it for clarity\n",
    "        return dW, db"
   ]
  },
  {
   "cell_type": "code",
   "execution_count": 466,
   "id": "ddd47724-9f2d-4dc2-88df-4c557655c3a6",
   "metadata": {},
   "outputs": [],
   "source": [
    "# Calculate gradients dW and db\n",
    "model = Model(2)\n",
    "X, y = generate_examples()\n",
    "y_hat = model.forward_pass(X)\n",
    "\n",
    "dW, db = model.backward_pass(X, y, y_hat)"
   ]
  },
  {
   "cell_type": "code",
   "execution_count": 467,
   "id": "0706edf0-a7c0-406a-8a56-712e2af1f154",
   "metadata": {},
   "outputs": [
    {
     "name": "stdout",
     "output_type": "stream",
     "text": [
      "[-2.11024051  3.63730323] -0.46037087423769835\n"
     ]
    }
   ],
   "source": [
    "print(dW, db)"
   ]
  },
  {
   "cell_type": "markdown",
   "id": "a47bbd70-7257-49d7-8f6c-dafd3caf1444",
   "metadata": {},
   "source": [
    "# Update parameters\n",
    "##### Update the parameters with gradients obtained with backward pass."
   ]
  },
  {
   "cell_type": "code",
   "execution_count": 469,
   "id": "9bd5d6e7-620e-404f-9993-d5c079a2ef70",
   "metadata": {},
   "outputs": [],
   "source": [
    "class Model(Model):\n",
    "    def update_params(self, dW, db, lr):\n",
    "        self.W = self.W - lr * np.reshape(dW, (self.num_features, 1))\n",
    "        self.b = self.b - db"
   ]
  },
  {
   "cell_type": "markdown",
   "id": "f4d48b52-75c3-45b7-8da8-015c33fe473a",
   "metadata": {},
   "source": [
    "# Implement the final training loop"
   ]
  },
  {
   "cell_type": "code",
   "execution_count": 471,
   "id": "fafd7f87-97f6-4e52-ace9-d89bb4244a04",
   "metadata": {},
   "outputs": [],
   "source": [
    "class Model(Model):\n",
    "    def train(self, x_train, y_train, iterations, lr):\n",
    "        losses = []\n",
    "        for i in range(0, iterations):\n",
    "            y_hat = self.forward_pass(x_train)\n",
    "            loss = self.compute_loss(y_hat, y_train)\n",
    "            dW, db = self.backward_pass(x_train, y_train, y_hat)\n",
    "            self.update_params(dW, db, lr)\n",
    "            losses.append(loss)\n",
    "            if i%int(iterations/10) == 0:\n",
    "                print(\"Iter: {}, loss: {:.4f}\".format(i, loss)) #to keep track of the loss value\n",
    "        return losses"
   ]
  },
  {
   "cell_type": "code",
   "execution_count": 472,
   "id": "c692d29b-5e92-42ad-8a55-7601118bd460",
   "metadata": {},
   "outputs": [],
   "source": [
    "model = Model(2)"
   ]
  },
  {
   "cell_type": "code",
   "execution_count": 473,
   "id": "29ccd485-9a34-4383-9074-381c47b1f010",
   "metadata": {},
   "outputs": [],
   "source": [
    "x_train, y_train = generate_examples()"
   ]
  },
  {
   "cell_type": "code",
   "execution_count": 474,
   "id": "f0017ba5-c6cc-4082-a809-5f05665b7f0f",
   "metadata": {},
   "outputs": [
    {
     "name": "stdout",
     "output_type": "stream",
     "text": [
      "Iter: 0, loss: 9.0358\n",
      "Iter: 100, loss: 4.5898\n",
      "Iter: 200, loss: 2.4803\n",
      "Iter: 300, loss: 1.3408\n",
      "Iter: 400, loss: 0.7250\n",
      "Iter: 500, loss: 0.3921\n",
      "Iter: 600, loss: 0.2122\n",
      "Iter: 700, loss: 0.1148\n",
      "Iter: 800, loss: 0.0622\n",
      "Iter: 900, loss: 0.0337\n"
     ]
    }
   ],
   "source": [
    "losses = model.train(x_train, y_train, 1000, 3e-3)"
   ]
  },
  {
   "cell_type": "code",
   "execution_count": 475,
   "id": "fecbe069-bd29-4729-b359-768df86423be",
   "metadata": {},
   "outputs": [
    {
     "data": {
      "image/png": "[encoded data removed]",
      "text/plain": [
       "<Figure size 640x480 with 1 Axes>"
      ]
     },
     "metadata": {},
     "output_type": "display_data"
    }
   ],
   "source": [
    "plt.plot(losses);"
   ]
  },
  {
   "cell_type": "markdown",
   "id": "a8d7f77e-cd46-4cfa-884b-73c3a02b9f2a",
   "metadata": {},
   "source": [
    "# Predictions"
   ]
  },
  {
   "cell_type": "code",
   "execution_count": 477,
   "id": "fbb8a282-829c-4c41-99bd-1781a3a369d9",
   "metadata": {},
   "outputs": [
    {
     "name": "stdout",
     "output_type": "stream",
     "text": [
      "(500, 2) (500, 1)\n"
     ]
    }
   ],
   "source": [
    "# Get predictions from an untrained model for comparison\n",
    "model_untrained = Model(2)\n",
    "\n",
    "x_test, y_test = generate_examples(500)\n",
    "print(x_test.shape, y_test.shape)"
   ]
  },
  {
   "cell_type": "code",
   "execution_count": 478,
   "id": "f4b635ad-48c6-4cc8-a12b-96a1a939c443",
   "metadata": {},
   "outputs": [],
   "source": [
    "preds_untrained = model_untrained.forward_pass(x_test)\n",
    "preds_trained = model.forward_pass(x_test)"
   ]
  },
  {
   "cell_type": "code",
   "execution_count": 479,
   "id": "dc6ef110-db98-4330-8530-2b150e670714",
   "metadata": {},
   "outputs": [
    {
     "data": {
      "image/png": "[encoded data removed]",
      "text/plain": [
       "<Figure size 600x600 with 1 Axes>"
      ]
     },
     "metadata": {},
     "output_type": "display_data"
    }
   ],
   "source": [
    "# PLot the predictions obtained from the trained vs the untrained model.\n",
    "plt.figure(figsize=(6, 6))\n",
    "plt.plot(preds_untrained, y_test, \"rx\", label = \"Untrained\")\n",
    "plt.plot(preds_trained, y_test, \"b.\", label = \"Trained\")\n",
    "plt.legend()\n",
    "plt.xlabel(\"Predictions\")\n",
    "plt.ylabel(\"Ground Truth\")\n",
    "plt.show()"
   ]
  }
 ],
 "metadata": {
  "kernelspec": {
   "display_name": "Python 3 (ipykernel)",
   "language": "python",
   "name": "python3"
  },
  "language_info": {
   "codemirror_mode": {
    "name": "ipython",
    "version": 3
   },
   "file_extension": ".py",
   "mimetype": "text/x-python",
   "name": "python",
   "nbconvert_exporter": "python",
   "pygments_lexer": "ipython3",
   "version": "3.12.4"
  }
 },
 "nbformat": 4,
 "nbformat_minor": 5
}
